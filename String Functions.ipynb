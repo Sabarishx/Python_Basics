{
 "cells": [
  {
   "cell_type": "code",
   "execution_count": 5,
   "id": "ad291b3c",
   "metadata": {},
   "outputs": [
    {
     "data": {
      "text/plain": [
       "15"
      ]
     },
     "execution_count": 5,
     "metadata": {},
     "output_type": "execute_result"
    }
   ],
   "source": [
    "#String Functions\n",
    "#Length function helps us to find the total length including Space\n",
    "len(\"fuvifnvnvvuiv e\")\n"
   ]
  },
  {
   "cell_type": "code",
   "execution_count": 12,
   "id": "cf061aab",
   "metadata": {},
   "outputs": [
    {
     "name": "stdout",
     "output_type": "stream",
     "text": [
      "k\n"
     ]
    }
   ],
   "source": [
    "#Indexing\n",
    "\n",
    "MyName = \"Sabarish Venkatesan\"\n",
    "print(MyName[12])"
   ]
  },
  {
   "cell_type": "code",
   "execution_count": 13,
   "id": "f82ed810",
   "metadata": {},
   "outputs": [
    {
     "name": "stdout",
     "output_type": "stream",
     "text": [
      "aiVa\n"
     ]
    }
   ],
   "source": [
    "#Slicing\n",
    "\n",
    "MyName = \"Sabarish Venkatesan\"\n",
    "\n",
    "#Syntax - [Start:Stop:Step]\n",
    "print(MyName[1:15:4]) "
   ]
  },
  {
   "cell_type": "code",
   "execution_count": 32,
   "id": "7e026769",
   "metadata": {},
   "outputs": [
    {
     "name": "stdout",
     "output_type": "stream",
     "text": [
      "SabarishVenkatesan\n"
     ]
    }
   ],
   "source": [
    "#String Concatenation - Merging Strings Together - Example 1\n",
    "\n",
    "FirstName = \"Sabarish\"\n",
    "lastName = \"Venkatesan\"\n",
    "print(FirstName+lastName)"
   ]
  },
  {
   "cell_type": "code",
   "execution_count": 34,
   "id": "135b7c00",
   "metadata": {},
   "outputs": [
    {
     "name": "stdout",
     "output_type": "stream",
     "text": [
      "SabarishVenkatesanSabarishVenkatesan\n"
     ]
    }
   ],
   "source": [
    "#String Concatenation - Example 2\n",
    "\n",
    "FirstName = \"Sabarish\"\n",
    "lastName = \"Venkatesan\"\n",
    "print((FirstName+lastName)*2)"
   ]
  },
  {
   "cell_type": "code",
   "execution_count": 43,
   "id": "5fe54b56",
   "metadata": {},
   "outputs": [
    {
     "name": "stdout",
     "output_type": "stream",
     "text": [
      "Culb Garden\n"
     ]
    }
   ],
   "source": [
    "#String Concatenation - Example 3\n",
    "\n",
    "A = \"Boat Culb\"\n",
    "B = \"Poes Garden\"\n",
    "print(A[-4:]+ B[4:])"
   ]
  },
  {
   "cell_type": "code",
   "execution_count": 51,
   "id": "d2b27359",
   "metadata": {},
   "outputs": [
    {
     "name": "stdout",
     "output_type": "stream",
     "text": [
      "MARS\n",
      "['Ma', 's']\n"
     ]
    }
   ],
   "source": [
    "# There are lots and lots of in-built Python functions for String\n",
    "# To explore all declare a variable and insert '.' and press 'Tab' button\n",
    "# Then, Notebook will show the list of in-built functions for string\n",
    "# Here is an example below\n",
    "\n",
    "World = \"Mars\"\n",
    "print(World.upper())\n",
    "print(World.split('r'))"
   ]
  },
  {
   "cell_type": "code",
   "execution_count": 2,
   "id": "a02a53e8",
   "metadata": {},
   "outputs": [
    {
     "name": "stdout",
     "output_type": "stream",
     "text": [
      "Hello All, I am Sabarish\n"
     ]
    }
   ],
   "source": [
    "# Print formatting with String - .format() method\n",
    "# Syntax - {Value:width.precision f}\n",
    "\n",
    "a = \"Sabarish\"\n",
    "print(\"Hello All, I am {}\".format(a))"
   ]
  },
  {
   "cell_type": "code",
   "execution_count": 10,
   "id": "613c9eaa",
   "metadata": {},
   "outputs": [
    {
     "name": "stdout",
     "output_type": "stream",
     "text": [
      "I am from LsAg\n"
     ]
    }
   ],
   "source": [
    "# Print formatting with String - f String method\n",
    "# This method will only on Python 3.6 and above \n",
    "\n",
    "B = \"Los Angeles\"\n",
    "print(f\"I am from {B[0:7:2]}\")"
   ]
  },
  {
   "cell_type": "code",
   "execution_count": null,
   "id": "e2ffd74b",
   "metadata": {},
   "outputs": [],
   "source": [
    "# List in Python \n",
    "# Lists are mutable\n",
    "# List - ['1','Sabarish','0.343']"
   ]
  }
 ],
 "metadata": {
  "kernelspec": {
   "display_name": "Python 3 (ipykernel)",
   "language": "python",
   "name": "python3"
  },
  "language_info": {
   "codemirror_mode": {
    "name": "ipython",
    "version": 3
   },
   "file_extension": ".py",
   "mimetype": "text/x-python",
   "name": "python",
   "nbconvert_exporter": "python",
   "pygments_lexer": "ipython3",
   "version": "3.9.13"
  }
 },
 "nbformat": 4,
 "nbformat_minor": 5
}
