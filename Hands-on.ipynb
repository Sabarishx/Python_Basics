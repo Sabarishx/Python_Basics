{
 "cells": [
  {
   "cell_type": "code",
   "execution_count": 1,
   "id": "9bdf7bd9",
   "metadata": {},
   "outputs": [
    {
     "name": "stdout",
     "output_type": "stream",
     "text": [
      "Hello World!\n"
     ]
    }
   ],
   "source": [
    "print('Hello World!')"
   ]
  },
  {
   "cell_type": "code",
   "execution_count": 2,
   "id": "aac577d6",
   "metadata": {},
   "outputs": [
    {
     "name": "stdout",
     "output_type": "stream",
     "text": [
      "55\n",
      "A is 10 and B is 45 If C=A+B then the total value of C: 55\n"
     ]
    }
   ],
   "source": [
    "a=10\n",
    "b=45\n",
    "c=a+b\n",
    "print(c)\n",
    "print(f'A is {a} and B is {45} If C=A+B then the total value of C: {c}')"
   ]
  },
  {
   "cell_type": "code",
   "execution_count": 3,
   "id": "5d642e8f",
   "metadata": {},
   "outputs": [
    {
     "name": "stdout",
     "output_type": "stream",
     "text": [
      "My Name is Sabarish and my age is 24\n"
     ]
    }
   ],
   "source": [
    "name=input('Enter your Name:')\n",
    "age=int(input('Enter your age:'))\n",
    "print(f'My Name is {name} and my age is {age}')"
   ]
  },
  {
   "cell_type": "code",
   "execution_count": 9,
   "id": "adef7a93",
   "metadata": {},
   "outputs": [
    {
     "name": "stdout",
     "output_type": "stream",
     "text": [
      "8\n",
      "6\n",
      "1.33\n"
     ]
    }
   ],
   "source": [
    "a=int(input('Enter A:'))\n",
    "b=int(input('Enter B:'))\n",
    "c=int(input('Enter C:'))\n",
    "\n",
    "mul=a*b*c\n",
    "add=a+b+c\n",
    "\n",
    "d=round((mul/add),2)\n",
    "print(mul)\n",
    "print(add)\n",
    "print(d)"
   ]
  },
  {
   "cell_type": "code",
   "execution_count": 37,
   "id": "49a3369e",
   "metadata": {},
   "outputs": [
    {
     "name": "stdout",
     "output_type": "stream",
     "text": [
      "Enter your Name:Sabarish\n",
      "Enter your Marks:98\n",
      "Enter your DepartmentEEE\n",
      "My Name is Sabarish\n",
      "My CGPA is 9.8/10\n",
      "My department is EEE\n"
     ]
    }
   ],
   "source": [
    "name=input(\"Enter your Name:\")\n",
    "marks=int(input(\"Enter your Marks:\"))\n",
    "department=input(\"Enter your Department\")\n",
    "\n",
    "CGPA=marks/10\n",
    "print('My Name is', name)\n",
    "print(f'My CGPA is {CGPA}/10')\n",
    "print('My department is', department)"
   ]
  },
  {
   "cell_type": "code",
   "execution_count": 11,
   "id": "5c6696e5",
   "metadata": {},
   "outputs": [
    {
     "name": "stdout",
     "output_type": "stream",
     "text": [
      "Surya weds Meghna\n"
     ]
    }
   ],
   "source": [
    "meghna=input('Enter alive/dead')\n",
    "if meghna=='dead':\n",
    "    print(\"Surya weds Priya\")\n",
    "else:\n",
    "    print(\"Surya weds Meghna\")"
   ]
  },
  {
   "cell_type": "code",
   "execution_count": 2,
   "id": "b66593e9",
   "metadata": {},
   "outputs": [
    {
     "name": "stdout",
     "output_type": "stream",
     "text": [
      "Enter alive/deadalive\n",
      "Surya weds Priya\n"
     ]
    }
   ],
   "source": [
    "meghna=input('Enter alive/dead')\n",
    "if meghna=='dead':\n",
    "    print(\"Surya weds Priya\")\n",
    "else:\n",
    "    print(\"Surya weds Meghna\")"
   ]
  },
  {
   "cell_type": "code",
   "execution_count": 4,
   "id": "9951bdeb",
   "metadata": {},
   "outputs": [
    {
     "name": "stdout",
     "output_type": "stream",
     "text": [
      "Enter your mark:56\n",
      "Pass\n"
     ]
    }
   ],
   "source": [
    "mark=int(input(\"Enter your mark:\"))\n",
    "if mark<=34:\n",
    "    print(\"Fail\")\n",
    "else:\n",
    "    print(\"Pass\")"
   ]
  },
  {
   "cell_type": "code",
   "execution_count": 6,
   "id": "1f346235",
   "metadata": {},
   "outputs": [
    {
     "name": "stdout",
     "output_type": "stream",
     "text": [
      "Enter your income:2333456\n",
      "You are not eligible for scholarship\n"
     ]
    }
   ],
   "source": [
    "income=int(input(\"Enter your income:\"))\n",
    "if income>=7000:\n",
    "    print(\"You are not eligible for scholarship\")\n",
    "else:\n",
    "    print(\"You are eligible for scholarship\")"
   ]
  },
  {
   "cell_type": "code",
   "execution_count": 17,
   "id": "3bd68049",
   "metadata": {},
   "outputs": [
    {
     "name": "stdout",
     "output_type": "stream",
     "text": [
      "Enter the number:30\n",
      "It is divisible by 3 and 5\n"
     ]
    }
   ],
   "source": [
    "a=int(input(\"Enter the number:\"))\n",
    "if a%3==0 and a%5==0:\n",
    "    print(\"It is divisible by 3 and 5\")\n",
    "else:\n",
    "    print(\"It is not divisible by 3 and 5\")"
   ]
  },
  {
   "cell_type": "code",
   "execution_count": 15,
   "id": "359fc78f",
   "metadata": {},
   "outputs": [
    {
     "name": "stdout",
     "output_type": "stream",
     "text": [
      "1\n"
     ]
    }
   ],
   "source": [
    "a=2//2\n",
    "print(a)"
   ]
  },
  {
   "cell_type": "code",
   "execution_count": 18,
   "id": "f1958e02",
   "metadata": {},
   "outputs": [
    {
     "name": "stdout",
     "output_type": "stream",
     "text": [
      "Enter a number:44\n",
      "It is even\n"
     ]
    }
   ],
   "source": [
    "a=int(input(\"Enter a number:\"))\n",
    "if a%2==0:\n",
    "    print(\"It is even\")\n",
    "else:\n",
    "    print(\"It is odd\")"
   ]
  },
  {
   "cell_type": "code",
   "execution_count": 19,
   "id": "3ed06b5d",
   "metadata": {},
   "outputs": [
    {
     "name": "stdout",
     "output_type": "stream",
     "text": [
      "Enter a number:55\n",
      "It is odd\n"
     ]
    }
   ],
   "source": [
    "a=int(input(\"Enter a number:\"))\n",
    "if a%2==0:\n",
    "    print(\"It is even\")\n",
    "else:\n",
    "    print(\"It is odd\")"
   ]
  },
  {
   "cell_type": "code",
   "execution_count": 33,
   "id": "840e25af",
   "metadata": {},
   "outputs": [
    {
     "name": "stdout",
     "output_type": "stream",
     "text": [
      "Enter your mark:6753\n",
      "Invalid Score\n"
     ]
    }
   ],
   "source": [
    "score=int(input(\"Enter your mark:\"))\n",
    "if score<35:\n",
    "    print(\"Poor Student\")\n",
    "elif score>=35 and score<=70:\n",
    "    print(\"Average Student\")\n",
    "elif score>70 and score<=90:\n",
    "    print(\"Good Student\")\n",
    "elif score>90 and score<=100:\n",
    "    print(\"Excellent Student\")\n",
    "else:\n",
    "    print(\"Invalid Score\")"
   ]
  },
  {
   "cell_type": "code",
   "execution_count": 54,
   "id": "1c0c84dd",
   "metadata": {},
   "outputs": [
    {
     "name": "stdout",
     "output_type": "stream",
     "text": [
      "Enter A value:4\n",
      "Enter B Value:6\n",
      "What need to be performed?add\n",
      "10\n"
     ]
    }
   ],
   "source": [
    "a=int(input(\"Enter A value:\"))\n",
    "b=int(input(\"Enter B Value:\"))\n",
    "function=(input(\"What need to be performed?\"))\n",
    "if function==\"Add\" or function==\"add\":\n",
    "    print(a+b)\n",
    "elif function==\"Sub\" or function==\"sub\":\n",
    "    print(a-b)\n",
    "elif function==\"Mul\" or function==\"mul\":\n",
    "    print(a*b)\n",
    "elif function==\"Div\" or function==\"div\":\n",
    "    print(a/b)\n",
    "else:\n",
    "    print(\"Invalid function\")"
   ]
  },
  {
   "cell_type": "code",
   "execution_count": 45,
   "id": "a7e62bbf",
   "metadata": {},
   "outputs": [
    {
     "name": "stdout",
     "output_type": "stream",
     "text": [
      "Enter your score:3\n",
      "You are not eligible\n"
     ]
    }
   ],
   "source": [
    "score=int(input(\"Enter your score:\"))\n",
    "if score>=70:\n",
    "    name=input(\"Enter your name:\")\n",
    "    department=input(\"Enter your department:\")\n",
    "    location=input(\"Enter your location:\")\n",
    "    print(\"You are eligible\")\n",
    "else:\n",
    "    print(\"You are not eligible\")\n",
    "    "
   ]
  },
  {
   "cell_type": "code",
   "execution_count": 94,
   "id": "44bb3710",
   "metadata": {},
   "outputs": [
    {
     "name": "stdout",
     "output_type": "stream",
     "text": [
      "Enter your salary:1\n",
      "Enter your age:1\n",
      "Enter your loan amount:1\n",
      "You are eligible for loan\n"
     ]
    }
   ],
   "source": [
    "salary=int(input(\"Enter your salary:\"))\n",
    "age=int(input('Enter your age:'))\n",
    "\n",
    "if salary>=20000 or age<=25:\n",
    "    loan_amount=int(input(\"Enter your loan amount:\"))\n",
    "    if loan_amount<=50000:\n",
    "        print(\"You are eligible for loan\")\n",
    "    else:\n",
    "        print(\"Maximum loan amount is 50000\")\n",
    "else:\n",
    "    print(\"You are not eligible for loan\")"
   ]
  },
  {
   "cell_type": "code",
   "execution_count": 96,
   "id": "ce21a436",
   "metadata": {},
   "outputs": [
    {
     "name": "stdout",
     "output_type": "stream",
     "text": [
      "Enter maths mark:99\n",
      "Enter english mark:99\n",
      "Enter chemistry mark:99\n",
      "Enter social mark:99\n",
      "Enter physics mark:99\n",
      "99.0\n",
      "You are good to go\n"
     ]
    }
   ],
   "source": [
    "maths=int(input(\"Enter maths mark:\"))\n",
    "english=int(input(\"Enter english mark:\"))\n",
    "chemistry=int(input(\"Enter chemistry mark:\"))\n",
    "social=int(input(\"Enter social mark:\"))\n",
    "physics=int(input(\"Enter physics mark:\"))\n",
    "\n",
    "average=(maths+english+chemistry+social+physics)/5\n",
    "print(average)\n",
    "\n",
    "if average>35:\n",
    "    print(\"You are good to go\")\n",
    "else:\n",
    "    print(\"Additional class is required\")"
   ]
  },
  {
   "cell_type": "code",
   "execution_count": null,
   "id": "c49d76ec",
   "metadata": {},
   "outputs": [],
   "source": []
  }
 ],
 "metadata": {
  "kernelspec": {
   "display_name": "Python 3 (ipykernel)",
   "language": "python",
   "name": "python3"
  },
  "language_info": {
   "codemirror_mode": {
    "name": "ipython",
    "version": 3
   },
   "file_extension": ".py",
   "mimetype": "text/x-python",
   "name": "python",
   "nbconvert_exporter": "python",
   "pygments_lexer": "ipython3",
   "version": "3.9.13"
  }
 },
 "nbformat": 4,
 "nbformat_minor": 5
}
