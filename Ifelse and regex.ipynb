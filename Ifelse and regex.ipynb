{
 "cells": [
  {
   "cell_type": "code",
   "execution_count": 1,
   "id": "836a1487",
   "metadata": {},
   "outputs": [],
   "source": [
    "#installing packages\n",
    "\n",
    "import pandas as pd\n",
    "import numpy as np\n",
    "import matplotlib as pl"
   ]
  },
  {
   "cell_type": "code",
   "execution_count": 3,
   "id": "e7c9fb89",
   "metadata": {},
   "outputs": [
    {
     "name": "stdout",
     "output_type": "stream",
     "text": [
      "7\n",
      "8\n",
      "15\n"
     ]
    },
    {
     "data": {
      "text/plain": [
       "int"
      ]
     },
     "execution_count": 3,
     "metadata": {},
     "output_type": "execute_result"
    }
   ],
   "source": [
    "a = int(input())\n",
    "b = int(input())\n",
    "c = a+b\n",
    "print(c)\n",
    "type(c)"
   ]
  },
  {
   "cell_type": "code",
   "execution_count": 4,
   "id": "7d2826d6",
   "metadata": {},
   "outputs": [
    {
     "name": "stdout",
     "output_type": "stream",
     "text": [
      "Enter your name:Sabarish\n",
      "Enter your age:23\n",
      "Sabarish - You are eligible for vote\n"
     ]
    }
   ],
   "source": [
    "Name=input(\"Enter your name:\")\n",
    "Age=int(input(\"Enter your age:\"))\n",
    "if Age>=18:\n",
    "    print(Name,\"- You are eligible for vote\")\n",
    "else:\n",
    "    print(Name,\"- You are not eligible for vote\")"
   ]
  },
  {
   "cell_type": "code",
   "execution_count": 6,
   "id": "55ee7510",
   "metadata": {},
   "outputs": [
    {
     "name": "stdout",
     "output_type": "stream",
     "text": [
      "Enter a number:5\n",
      "Enter a number:6\n",
      "it is odd\n"
     ]
    }
   ],
   "source": [
    "a = int(input(\"Enter a number:\"))\n",
    "b = int(input(\"Enter a number:\"))\n",
    "c = a+b\n",
    "if c%2==0:\n",
    "    print(\"it is even\")\n",
    "else:\n",
    "    print(\"it is odd\")"
   ]
  },
  {
   "cell_type": "code",
   "execution_count": 12,
   "id": "b883af22",
   "metadata": {},
   "outputs": [
    {
     "name": "stdout",
     "output_type": "stream",
     "text": [
      "Enter Groom's age:24\n",
      "Enter Bride's age:55\n",
      "You are eligible for marriage\n"
     ]
    }
   ],
   "source": [
    "Male = int(input(\"Enter Groom's age:\"))\n",
    "Female = int(input(\"Enter Bride's age:\"))\n",
    "if Male>=21 and Female>=21:\n",
    "    print(\"You are eligible for marriage\")\n",
    "else:\n",
    "    print(\"You are not eligible for marriage\")"
   ]
  },
  {
   "cell_type": "markdown",
   "id": "95598461",
   "metadata": {},
   "source": [
    "# Regular Expression - Regex - $,%,^,*,.,{},#,?,|,\\d"
   ]
  },
  {
   "cell_type": "markdown",
   "id": "7cb9c426",
   "metadata": {},
   "source": [
    "Common Regular Expression Metacharacters:\n",
    ".: Matches any single character except a newline.\n",
    "\n",
    "^: Matches the start of the string.\n",
    "\n",
    "$: Matches the end of the string.\n",
    "\n",
    "*: Matches 0 or more repetitions of the preceding pattern.\n",
    "\n",
    "+: Matches 1 or more repetitions of the preceding pattern.\n",
    "\n",
    "?: Matches 0 or 1 repetition of the preceding pattern.\n",
    "\n",
    "[]: Matches any single character inside the brackets.\n",
    "\n",
    "(): Groups patterns together.\n",
    "\n",
    "\\d: Matches any digit (equivalent to [0-9]).\n",
    "\n",
    "\\w: Matches any word character (letters, digits, and underscores).\n",
    "\n",
    "\\s: Matches any whitespace character (space, tab, newline).\n",
    "\n",
    "|: Matches either the pattern before or the pattern after the |."
   ]
  },
  {
   "cell_type": "code",
   "execution_count": 18,
   "id": "289a1c7d",
   "metadata": {},
   "outputs": [
    {
     "name": "stdout",
     "output_type": "stream",
     "text": [
      "<re.Match object; span=(0, 3), match='hel'>\n"
     ]
    }
   ],
   "source": [
    "import re \n",
    "text = \"hello world\"\n",
    "re_text = re.search(\"^hel\",text) #Using ^ character\n",
    "print(re_text)"
   ]
  },
  {
   "cell_type": "code",
   "execution_count": 21,
   "id": "f351edac",
   "metadata": {},
   "outputs": [
    {
     "name": "stdout",
     "output_type": "stream",
     "text": [
      "Its not a match - None\n"
     ]
    }
   ],
   "source": [
    "import re \n",
    "text1 = \"hello world\"\n",
    "re_text1 = re.search(\"heelloo$\",text1) #Using $ character\n",
    "\n",
    "if re_text1 is None:\n",
    "    print(\"Its not a match -\", re_text1)\n",
    "else:\n",
    "    print(\"Its a match -\", re_text1)"
   ]
  },
  {
   "cell_type": "code",
   "execution_count": 23,
   "id": "c48e7aea",
   "metadata": {},
   "outputs": [
    {
     "name": "stdout",
     "output_type": "stream",
     "text": [
      "['sabarish']\n"
     ]
    }
   ],
   "source": [
    "text2=\"sabarishvenkatesan\"\n",
    "re_text2=re.findall(\"saba....\",text2) #using .each dot helps to find the character\n",
    "print(re_text2)"
   ]
  },
  {
   "cell_type": "code",
   "execution_count": 33,
   "id": "9cff0af5",
   "metadata": {},
   "outputs": [
    {
     "name": "stdout",
     "output_type": "stream",
     "text": [
      "['', 'a', '', 'a', '', '', '', '', '', '', '', '', 'a', '', '', '', 'a', '', '']\n"
     ]
    }
   ],
   "source": [
    "text3=\"sabarishvenkatesan\"\n",
    "re_text3=re.findall(\"a*\",text3) #using *\n",
    "print(re_text3)\n"
   ]
  },
  {
   "cell_type": "code",
   "execution_count": 34,
   "id": "7b87f09a",
   "metadata": {},
   "outputs": [
    {
     "name": "stdout",
     "output_type": "stream",
     "text": [
      "['venkatesan']\n"
     ]
    }
   ],
   "source": [
    "text3=\"sabarishvenkatesan\"\n",
    "re_text3=re.findall(\"ve.*n\",text3)  #using *\n",
    "print(re_text3)\n"
   ]
  },
  {
   "cell_type": "code",
   "execution_count": 39,
   "id": "a07f1e5b",
   "metadata": {},
   "outputs": [
    {
     "name": "stdout",
     "output_type": "stream",
     "text": [
      "['Machine ']\n"
     ]
    }
   ],
   "source": [
    "text4 = \"Learn Machine learning and data with Sabarish\"\n",
    "re_text4=re.findall(\"Machine | Data\", text4) #using | operator, | means or\n",
    "print(re_text4)"
   ]
  },
  {
   "cell_type": "code",
   "execution_count": 64,
   "id": "70004857",
   "metadata": {},
   "outputs": [
    {
     "name": "stdout",
     "output_type": "stream",
     "text": [
      "Enter your password =sabarish!Q1\n",
      "Valid Password\n"
     ]
    }
   ],
   "source": [
    "password = input(\"Enter your password =\")\n",
    "if len(password)<8:\n",
    "    print(\"Your password should be more than 8 characters\")\n",
    "elif re.search(\"[!@#$%^&*]\", password) is None:\n",
    "    print(\"Your password should contain atleast 1 special character\")\n",
    "elif re.search(\"[a-z]\",password) is None:\n",
    "    print(\"Your password should have atleast 1 small character\")\n",
    "elif re.search(\"[A-Z]\", password) is None:\n",
    "    print(\"Your password should have atleast 1 capital letter\")\n",
    "elif re.search(\"[0-9]\",password) is None:\n",
    "    print(\"Your password should have atleast 1 numerical value\")\n",
    "else:\n",
    "    print(\"Valid Password\")"
   ]
  },
  {
   "cell_type": "code",
   "execution_count": null,
   "id": "cace1b1a",
   "metadata": {},
   "outputs": [],
   "source": []
  },
  {
   "cell_type": "code",
   "execution_count": null,
   "id": "23ae505e",
   "metadata": {},
   "outputs": [],
   "source": []
  }
 ],
 "metadata": {
  "kernelspec": {
   "display_name": "Python 3 (ipykernel)",
   "language": "python",
   "name": "python3"
  },
  "language_info": {
   "codemirror_mode": {
    "name": "ipython",
    "version": 3
   },
   "file_extension": ".py",
   "mimetype": "text/x-python",
   "name": "python",
   "nbconvert_exporter": "python",
   "pygments_lexer": "ipython3",
   "version": "3.9.13"
  }
 },
 "nbformat": 4,
 "nbformat_minor": 5
}
