{
 "cells": [
  {
   "cell_type": "code",
   "execution_count": 1,
   "id": "50b021c5",
   "metadata": {},
   "outputs": [
    {
     "data": {
      "text/plain": [
       "3"
      ]
     },
     "execution_count": 1,
     "metadata": {},
     "output_type": "execute_result"
    }
   ],
   "source": [
    " # Numbers in Python by Arithmetical Operator\n",
    "    \n",
    " 2+1"
   ]
  },
  {
   "cell_type": "code",
   "execution_count": 2,
   "id": "8ee49037",
   "metadata": {},
   "outputs": [
    {
     "data": {
      "text/plain": [
       "8737328732832687326376333217215606220616881"
      ]
     },
     "execution_count": 2,
     "metadata": {},
     "output_type": "execute_result"
    }
   ],
   "source": [
    "#Addition\n",
    "\n",
    "343232332233243243+8737328732832687326376332873983273987373638"
   ]
  },
  {
   "cell_type": "code",
   "execution_count": 4,
   "id": "cd02a9ab",
   "metadata": {},
   "outputs": [
    {
     "data": {
      "text/plain": [
       "0"
      ]
     },
     "execution_count": 4,
     "metadata": {},
     "output_type": "execute_result"
    }
   ],
   "source": [
    "#Multiplication\n",
    "\n",
    "33233232323333221*0"
   ]
  },
  {
   "cell_type": "code",
   "execution_count": 6,
   "id": "f6807ee1",
   "metadata": {},
   "outputs": [
    {
     "data": {
      "text/plain": [
       "-8765422691110190000899111"
      ]
     },
     "execution_count": 6,
     "metadata": {},
     "output_type": "execute_result"
    }
   ],
   "source": [
    "#Subtraction\n",
    "\n",
    "9654568797653446567-8765432345678987654345678"
   ]
  },
  {
   "cell_type": "code",
   "execution_count": 11,
   "id": "adf8fa4a",
   "metadata": {},
   "outputs": [
    {
     "data": {
      "text/plain": [
       "6.0"
      ]
     },
     "execution_count": 11,
     "metadata": {},
     "output_type": "execute_result"
    }
   ],
   "source": [
    "# Division Operator (It will return back the Quotient)\n",
    "\n",
    "30 / 5"
   ]
  },
  {
   "cell_type": "code",
   "execution_count": 2,
   "id": "11bfa9c3",
   "metadata": {},
   "outputs": [
    {
     "data": {
      "text/plain": [
       "0"
      ]
     },
     "execution_count": 2,
     "metadata": {},
     "output_type": "execute_result"
    }
   ],
   "source": [
    "# Mod Operator (It will return back the remainder)\n",
    "\n",
    "20 % 2"
   ]
  },
  {
   "cell_type": "code",
   "execution_count": 13,
   "id": "eadfa7a2",
   "metadata": {},
   "outputs": [
    {
     "data": {
      "text/plain": [
       "8"
      ]
     },
     "execution_count": 13,
     "metadata": {},
     "output_type": "execute_result"
    }
   ],
   "source": [
    "#Power of  or exponential \n",
    "\n",
    "2**3"
   ]
  }
 ],
 "metadata": {
  "kernelspec": {
   "display_name": "Python 3 (ipykernel)",
   "language": "python",
   "name": "python3"
  },
  "language_info": {
   "codemirror_mode": {
    "name": "ipython",
    "version": 3
   },
   "file_extension": ".py",
   "mimetype": "text/x-python",
   "name": "python",
   "nbconvert_exporter": "python",
   "pygments_lexer": "ipython3",
   "version": "3.9.13"
  }
 },
 "nbformat": 4,
 "nbformat_minor": 5
}
