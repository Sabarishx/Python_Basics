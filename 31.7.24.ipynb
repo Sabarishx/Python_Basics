{
 "cells": [
  {
   "cell_type": "markdown",
   "id": "40924074-6b1e-4225-bbc6-085c9479aa59",
   "metadata": {},
   "source": [
    "Loop concepts"
   ]
  },
  {
   "cell_type": "code",
   "execution_count": 2,
   "id": "003cf3c0-8a52-41a5-9828-dc691557a5e1",
   "metadata": {},
   "outputs": [
    {
     "name": "stdout",
     "output_type": "stream",
     "text": [
      "A\n",
      "p\n",
      "p\n",
      "l\n",
      "e\n"
     ]
    }
   ],
   "source": [
    "for i in \"Apple\":\n",
    "    print(i)"
   ]
  },
  {
   "cell_type": "code",
   "execution_count": 4,
   "id": "efad9cde-14f7-45c9-a8ee-0c0490907b85",
   "metadata": {},
   "outputs": [
    {
     "name": "stdout",
     "output_type": "stream",
     "text": [
      "0\n",
      "1\n",
      "2\n",
      "3\n",
      "4\n",
      "5\n",
      "6\n",
      "7\n",
      "8\n",
      "9\n",
      "10\n",
      "11\n",
      "12\n",
      "13\n",
      "14\n",
      "15\n",
      "16\n",
      "17\n",
      "18\n",
      "19\n",
      "20\n",
      "21\n",
      "22\n"
     ]
    }
   ],
   "source": [
    "for number in range(23):\n",
    "    print(number)"
   ]
  },
  {
   "cell_type": "code",
   "execution_count": 14,
   "id": "be2933cf-f5e8-445e-b32c-9bc9ecb41b70",
   "metadata": {},
   "outputs": [
    {
     "name": "stdout",
     "output_type": "stream",
     "text": [
      "5\n",
      "6\n",
      "7\n",
      "8\n",
      "9\n"
     ]
    }
   ],
   "source": [
    "for i in range(5,10):\n",
    "    print(i)"
   ]
  },
  {
   "cell_type": "code",
   "execution_count": 32,
   "id": "cb5acef7-0151-42ca-a360-5a7b514a42ea",
   "metadata": {},
   "outputs": [
    {
     "name": "stdout",
     "output_type": "stream",
     "text": [
      "2 X 1 = 2\n",
      "2 X 2 = 4\n",
      "2 X 3 = 6\n",
      "2 X 4 = 8\n",
      "2 X 5 = 10\n",
      "2 X 6 = 12\n",
      "2 X 7 = 14\n",
      "2 X 8 = 16\n",
      "2 X 9 = 18\n",
      "2 X 10 = 20\n"
     ]
    }
   ],
   "source": [
    "for i in range(1,11):\n",
    "    print(f'2 X {i} =', i*2)"
   ]
  },
  {
   "cell_type": "code",
   "execution_count": 44,
   "id": "9f3fb7c7-1c16-4707-9a43-671fc8d2e5ae",
   "metadata": {},
   "outputs": [
    {
     "name": "stdin",
     "output_type": "stream",
     "text": [
      "Enter the number 10\n",
      "Enter the number 20\n"
     ]
    },
    {
     "name": "stdout",
     "output_type": "stream",
     "text": [
      "11\n",
      "12\n",
      "13\n",
      "14\n",
      "15\n",
      "16\n",
      "17\n",
      "18\n",
      "19\n"
     ]
    }
   ],
   "source": [
    "n = int(input(\"Enter the number\"))\n",
    "m = int(input(\"Enter the number\"))\n",
    "for i in range(n+1,m):\n",
    "    print(i)\n",
    "    "
   ]
  },
  {
   "cell_type": "code",
   "execution_count": 54,
   "id": "64218990-cbd7-4594-a2c1-28273c67ffe1",
   "metadata": {},
   "outputs": [
    {
     "name": "stdin",
     "output_type": "stream",
     "text": [
      " 10\n",
      " 20\n"
     ]
    },
    {
     "name": "stdout",
     "output_type": "stream",
     "text": [
      "10\n",
      "12\n",
      "14\n",
      "16\n",
      "18\n"
     ]
    }
   ],
   "source": [
    "a = int(input())\n",
    "b = int(input())\n",
    "for i in range(a,b):\n",
    "    if(i%2==0):\n",
    "        print(i)"
   ]
  },
  {
   "cell_type": "code",
   "execution_count": 84,
   "id": "fc9a392c-f13e-424b-b636-d73405c50d14",
   "metadata": {},
   "outputs": [
    {
     "name": "stdin",
     "output_type": "stream",
     "text": [
      " 1\n",
      " 10\n"
     ]
    },
    {
     "name": "stdout",
     "output_type": "stream",
     "text": [
      "5\n"
     ]
    }
   ],
   "source": [
    "a = int(input())\n",
    "b = int(input())\n",
    "count = 0\n",
    "for i in range(a,b):\n",
    "    if(i%2==1):\n",
    "        count = count+1\n",
    "print(count)"
   ]
  },
  {
   "cell_type": "code",
   "execution_count": 92,
   "id": "9e748b41-d6c1-40a9-bad1-57df27a22168",
   "metadata": {},
   "outputs": [
    {
     "name": "stdin",
     "output_type": "stream",
     "text": [
      "Enter the number here: 1\n",
      "Enter the number here: 11\n"
     ]
    },
    {
     "name": "stdout",
     "output_type": "stream",
     "text": [
      "Count of even numbers:5, Count of odd numbers:5\n"
     ]
    }
   ],
   "source": [
    "a = int(input(\"Enter the number here:\"))\n",
    "b = int(input(\"Enter the number here:\"))\n",
    "even_count = 0\n",
    "odd_count = 0\n",
    "for i in range(a,b):\n",
    "    if(i%2==0):\n",
    "        even_count=even_count+1\n",
    "    elif(i%2==1):\n",
    "        odd_count=odd_count+1\n",
    "print(f'Count of even numbers:{even_count}, Count of odd numbers:{odd_count}')"
   ]
  },
  {
   "cell_type": "code",
   "execution_count": 90,
   "id": "32e84c38-ee6b-4670-baff-ab853f1dafe6",
   "metadata": {},
   "outputs": [
    {
     "name": "stdin",
     "output_type": "stream",
     "text": [
      " 1\n",
      " 10\n"
     ]
    },
    {
     "name": "stdout",
     "output_type": "stream",
     "text": [
      "1\n",
      "2\n",
      "3\n",
      "4\n",
      "5\n",
      "6\n",
      "7\n",
      "8\n",
      "9\n"
     ]
    }
   ],
   "source": [
    "a = int(input())\n",
    "b = int(input())\n",
    "for i in range(a,b):\n",
    "    print(i)"
   ]
  },
  {
   "cell_type": "code",
   "execution_count": 100,
   "id": "9320d4fb-8b4b-45bf-a680-1dceb2802f7a",
   "metadata": {},
   "outputs": [
    {
     "name": "stdin",
     "output_type": "stream",
     "text": [
      " 1\n",
      " 100\n"
     ]
    },
    {
     "name": "stdout",
     "output_type": "stream",
     "text": [
      "33\n",
      "19\n"
     ]
    }
   ],
   "source": [
    "a = int(input())\n",
    "b = int(input())\n",
    "three_divisible = 0\n",
    "five_divisible = 0\n",
    "for i in range(a,b):\n",
    "    if(i%3==0):\n",
    "        three_divisible=three_divisible+1\n",
    "    if(i%5==0):\n",
    "        five_divisible=five_divisible+1\n",
    "print(three_divisible)\n",
    "print(five_divisible)\n",
    "        "
   ]
  },
  {
   "cell_type": "code",
   "execution_count": 106,
   "id": "a823381c-8770-4a0e-a43c-541c19c97c7c",
   "metadata": {},
   "outputs": [
    {
     "name": "stdin",
     "output_type": "stream",
     "text": [
      " 1\n",
      " 101\n"
     ]
    },
    {
     "name": "stdout",
     "output_type": "stream",
     "text": [
      "6\n"
     ]
    }
   ],
   "source": [
    "a = int(input())\n",
    "b = int(input())\n",
    "divisible = 0\n",
    "for i in range(a,b):\n",
    "    if(i%3==0 and i%5==0):\n",
    "        divisible=divisible+1\n",
    "print(divisible)"
   ]
  },
  {
   "cell_type": "code",
   "execution_count": 118,
   "id": "3640a447-1c1d-4a6d-ba18-5708b115ded5",
   "metadata": {},
   "outputs": [
    {
     "name": "stdin",
     "output_type": "stream",
     "text": [
      " 1\n",
      " 6\n"
     ]
    },
    {
     "name": "stdout",
     "output_type": "stream",
     "text": [
      "15\n"
     ]
    }
   ],
   "source": [
    "a = int(input())\n",
    "b = int(input())\n",
    "sum = 0\n",
    "for i in range(a,b):\n",
    "    sum+=i\n",
    "print(sum)\n",
    "    "
   ]
  },
  {
   "cell_type": "code",
   "execution_count": 122,
   "id": "45a91049-e977-4918-8abd-abe3e4824c02",
   "metadata": {},
   "outputs": [
    {
     "name": "stdin",
     "output_type": "stream",
     "text": [
      " 1\n",
      " 6\n"
     ]
    },
    {
     "name": "stdout",
     "output_type": "stream",
     "text": [
      "15\n",
      "3.0\n"
     ]
    }
   ],
   "source": [
    "a = int(input())\n",
    "b = int(input())\n",
    "sum=0\n",
    "count=0\n",
    "for i in range(a,b):\n",
    "    sum=sum+i\n",
    "    count+=1\n",
    "    average=sum/count\n",
    "print(sum)\n",
    "print(average)\n",
    "    "
   ]
  },
  {
   "cell_type": "code",
   "execution_count": 132,
   "id": "2c90fe20-6f69-4d4b-8e8e-a8ef2f1e372b",
   "metadata": {},
   "outputs": [],
   "source": [
    "a=[]\n",
    "a.append(\"1000      \")"
   ]
  },
  {
   "cell_type": "code",
   "execution_count": 134,
   "id": "39e47394-28c7-4a5c-85c8-05d58dd7b5a8",
   "metadata": {},
   "outputs": [
    {
     "name": "stdout",
     "output_type": "stream",
     "text": [
      "['1000      ']\n"
     ]
    }
   ],
   "source": [
    "print(a)"
   ]
  },
  {
   "cell_type": "code",
   "execution_count": 160,
   "id": "210b2dfb-7cfc-4a0f-86fc-bb27ad2ce4cd",
   "metadata": {},
   "outputs": [
    {
     "name": "stdout",
     "output_type": "stream",
     "text": [
      "Enter the number below:\n"
     ]
    },
    {
     "name": "stdin",
     "output_type": "stream",
     "text": [
      " 1\n"
     ]
    },
    {
     "name": "stdout",
     "output_type": "stream",
     "text": [
      "Enter 1 Number:\n",
      "1\n"
     ]
    },
    {
     "name": "stdin",
     "output_type": "stream",
     "text": [
      " 2\n"
     ]
    },
    {
     "name": "stdout",
     "output_type": "stream",
     "text": [
      "Enter 2 Number:\n",
      "2\n"
     ]
    },
    {
     "name": "stdin",
     "output_type": "stream",
     "text": [
      " 3\n"
     ]
    },
    {
     "name": "stdout",
     "output_type": "stream",
     "text": [
      "Enter 3 Number:\n",
      "3\n"
     ]
    },
    {
     "name": "stdin",
     "output_type": "stream",
     "text": [
      " 4\n"
     ]
    },
    {
     "name": "stdout",
     "output_type": "stream",
     "text": [
      "Enter 4 Number:\n",
      "4\n"
     ]
    },
    {
     "name": "stdin",
     "output_type": "stream",
     "text": [
      " 5\n"
     ]
    },
    {
     "name": "stdout",
     "output_type": "stream",
     "text": [
      "Enter 5 Number:\n",
      "5\n"
     ]
    },
    {
     "name": "stdin",
     "output_type": "stream",
     "text": [
      " 6\n"
     ]
    },
    {
     "name": "stdout",
     "output_type": "stream",
     "text": [
      "Enter 6 Number:\n",
      "6\n"
     ]
    },
    {
     "name": "stdin",
     "output_type": "stream",
     "text": [
      " 7\n"
     ]
    },
    {
     "name": "stdout",
     "output_type": "stream",
     "text": [
      "Enter 7 Number:\n",
      "7\n"
     ]
    },
    {
     "name": "stdin",
     "output_type": "stream",
     "text": [
      " 8\n"
     ]
    },
    {
     "name": "stdout",
     "output_type": "stream",
     "text": [
      "Enter 8 Number:\n",
      "8\n"
     ]
    },
    {
     "name": "stdin",
     "output_type": "stream",
     "text": [
      " 9\n"
     ]
    },
    {
     "name": "stdout",
     "output_type": "stream",
     "text": [
      "Enter 9 Number:\n",
      "9\n"
     ]
    },
    {
     "name": "stdin",
     "output_type": "stream",
     "text": [
      " 10\n"
     ]
    },
    {
     "name": "stdout",
     "output_type": "stream",
     "text": [
      "Enter 10 Number:\n",
      "10\n"
     ]
    }
   ],
   "source": [
    "a = []\n",
    "print(\"Enter the number below:\")\n",
    "for i in range(10):\n",
    "    b = int(input())\n",
    "    print(f'Enter {str(i+1)} Number:')\n",
    "    a.append(b)\n",
    "    print(b)"
   ]
  },
  {
   "cell_type": "code",
   "execution_count": 180,
   "id": "151d9aa2-bb7b-4247-9b40-7b23c0e36fd7",
   "metadata": {},
   "outputs": [
    {
     "name": "stdout",
     "output_type": "stream",
     "text": [
      "Enter the number below:\n"
     ]
    },
    {
     "name": "stdin",
     "output_type": "stream",
     "text": [
      "Enter 1 Number: 1\n",
      "Enter 2 Number: 4\n",
      "Enter 3 Number: 345\n",
      "Enter 4 Number: 65\n",
      "Enter 5 Number: 8765\n",
      "Enter 6 Number: 3456\n",
      "Enter 7 Number: 65\n",
      "Enter 8 Number: 7654\n",
      "Enter 9 Number: 345\n",
      "Enter 10 Number: 0\n"
     ]
    }
   ],
   "source": [
    "a = []\n",
    "print(\"Enter the number below:\")\n",
    "for i in range(10):\n",
    "    number=int(input(f'Enter {str(i+1)} Number:'))"
   ]
  },
  {
   "cell_type": "code",
   "execution_count": 220,
   "id": "82691a6b-a97c-4b6a-ab99-2b9ed62360c4",
   "metadata": {},
   "outputs": [
    {
     "name": "stdout",
     "output_type": "stream",
     "text": [
      "Enter the number below:\n"
     ]
    },
    {
     "name": "stdin",
     "output_type": "stream",
     "text": [
      "Enter 1 Number: 1\n",
      "Enter 2 Number: 2\n",
      "Enter 3 Number: 3\n",
      "Enter 4 Number: 4\n",
      "Enter 5 Number: 5\n",
      "Enter 6 Number: 6\n",
      "Enter 7 Number: 7\n",
      "Enter 8 Number: 8\n",
      "Enter 9 Number: 9\n",
      "Enter 10 Number: 10\n"
     ]
    },
    {
     "name": "stdout",
     "output_type": "stream",
     "text": [
      "Total Sum 45\n",
      "Total Average 4.5\n"
     ]
    }
   ],
   "source": [
    "a = []\n",
    "sum = 0\n",
    "count = 0\n",
    "print(\"Enter the number below:\")\n",
    "for i in range(10):\n",
    "    num=int(input(f'Enter {str(i+1)} Number:'))\n",
    "    a.append(num)\n",
    "    sum=sum+i\n",
    "    count+=1\n",
    "    average = sum/count\n",
    "print(\"Total Sum\", sum)\n",
    "print(\"Total Average\", average)\n",
    "    \n"
   ]
  },
  {
   "cell_type": "code",
   "execution_count": 226,
   "id": "fc5511fe-9418-4a3d-8da0-726958a405a8",
   "metadata": {},
   "outputs": [
    {
     "name": "stdin",
     "output_type": "stream",
     "text": [
      " 1\n",
      " 11\n"
     ]
    },
    {
     "name": "stdout",
     "output_type": "stream",
     "text": [
      "Enter the number below:\n"
     ]
    },
    {
     "name": "stdin",
     "output_type": "stream",
     "text": [
      "Enter 1 Number: 1\n",
      "Enter 2 Number: 2\n",
      "Enter 3 Number: 3\n",
      "Enter 4 Number: 4\n",
      "Enter 5 Number: 5\n",
      "Enter 6 Number: 6\n",
      "Enter 7 Number: 7\n",
      "Enter 8 Number: 8\n",
      "Enter 9 Number: 9\n",
      "Enter 10 Number: 10\n"
     ]
    },
    {
     "name": "stdout",
     "output_type": "stream",
     "text": [
      "Total Sum 55\n",
      "Total Average 5.5\n"
     ]
    }
   ],
   "source": [
    "a = int(input())\n",
    "b = int(input())\n",
    "sum = 0\n",
    "count = 0\n",
    "print(\"Enter the number below:\")\n",
    "for i in range(a,b):\n",
    "    num=int(input(f'Enter {str(i)} Number:'))\n",
    "    sum=sum+i\n",
    "    count+=1\n",
    "    average = sum/count\n",
    "print(\"Total Sum\", sum)\n",
    "print(\"Total Average\", average)"
   ]
  },
  {
   "cell_type": "code",
   "execution_count": 254,
   "id": "ad1edeea-9c99-4b62-a76a-852a217490e0",
   "metadata": {},
   "outputs": [
    {
     "name": "stdout",
     "output_type": "stream",
     "text": [
      "Enter the number below:\n"
     ]
    },
    {
     "name": "stdin",
     "output_type": "stream",
     "text": [
      "Enter 1 Number: 1\n",
      "Enter 2 Number: 2\n",
      "Enter 3 Number: 3\n",
      "Enter 4 Number: 4\n",
      "Enter 5 Number: 5\n",
      "Enter 6 Number: 6\n",
      "Enter 7 Number: 7\n",
      "Enter 8 Number: 8\n",
      "Enter 9 Number: 9\n",
      "Enter 10 Number: 10\n"
     ]
    },
    {
     "name": "stdout",
     "output_type": "stream",
     "text": [
      "Total Sum Value 55\n",
      "Total Average Value 5.5\n"
     ]
    }
   ],
   "source": [
    "a =[]\n",
    "sum=0\n",
    "count = 0\n",
    "print(\"Enter the number below:\")\n",
    "for i in range(10):\n",
    "    num=int(input(f'Enter {str(i+1)} Number:'))\n",
    "    a.append(num)\n",
    "    \n",
    "for i in a:\n",
    "    sum=sum+i\n",
    "    count=count+1\n",
    "    average=sum/count\n",
    "print(\"Total Sum Value\", sum)\n",
    "print(\"Total Average Value\", average)"
   ]
  },
  {
   "cell_type": "code",
   "execution_count": 302,
   "id": "e47ddb8f-1c22-428d-8173-c7e3f07d89da",
   "metadata": {},
   "outputs": [
    {
     "name": "stdout",
     "output_type": "stream",
     "text": [
      "Enter the numbers:\n"
     ]
    },
    {
     "name": "stdin",
     "output_type": "stream",
     "text": [
      "Cube of 1 is: 1\n"
     ]
    },
    {
     "name": "stdout",
     "output_type": "stream",
     "text": [
      "1\n"
     ]
    },
    {
     "name": "stdin",
     "output_type": "stream",
     "text": [
      "Cube of 2 is: 2\n"
     ]
    },
    {
     "name": "stdout",
     "output_type": "stream",
     "text": [
      "8\n"
     ]
    },
    {
     "name": "stdin",
     "output_type": "stream",
     "text": [
      "Cube of 3 is: 3\n"
     ]
    },
    {
     "name": "stdout",
     "output_type": "stream",
     "text": [
      "27\n"
     ]
    },
    {
     "name": "stdin",
     "output_type": "stream",
     "text": [
      "Cube of 4 is: 4\n"
     ]
    },
    {
     "name": "stdout",
     "output_type": "stream",
     "text": [
      "64\n"
     ]
    },
    {
     "name": "stdin",
     "output_type": "stream",
     "text": [
      "Cube of 5 is: 4\n"
     ]
    },
    {
     "name": "stdout",
     "output_type": "stream",
     "text": [
      "64\n"
     ]
    }
   ],
   "source": [
    "a=[]\n",
    "print(\"Enter the numbers:\")\n",
    "for i in range(5):\n",
    "    num=int(input(f'Cube of {i+1} is:'))\n",
    "    a.append(num)\n",
    "    print(num*num*num)"
   ]
  },
  {
   "cell_type": "code",
   "execution_count": 262,
   "id": "0133277e-c12f-4a4e-975e-b1093faa8d54",
   "metadata": {},
   "outputs": [
    {
     "name": "stdin",
     "output_type": "stream",
     "text": [
      "Enter the number: 7\n"
     ]
    },
    {
     "name": "stdout",
     "output_type": "stream",
     "text": [
      "1\n",
      "2\n",
      "3\n",
      "4\n",
      "5\n",
      "6\n",
      "7\n"
     ]
    }
   ],
   "source": [
    "a = int(input(\"Enter the number:\"))\n",
    "for i in range(a):\n",
    "    print(i+1)"
   ]
  },
  {
   "cell_type": "markdown",
   "id": "ee016776-cc22-4699-96c0-5eb9c0647b94",
   "metadata": {},
   "source": [
    "Nested loops concepts"
   ]
  },
  {
   "cell_type": "code",
   "execution_count": 316,
   "id": "e34b8547-6ff0-490a-b001-fb593ddd0319",
   "metadata": {},
   "outputs": [
    {
     "name": "stdout",
     "output_type": "stream",
     "text": [
      "Week: 1\n",
      "Days: 1\n",
      "Days: 2\n",
      "Days: 3\n",
      "Days: 4\n",
      "Days: 5\n",
      "Days: 6\n",
      "Week: 2\n",
      "Days: 1\n",
      "Days: 2\n",
      "Days: 3\n",
      "Days: 4\n",
      "Days: 5\n",
      "Days: 6\n",
      "Week: 3\n",
      "Days: 1\n",
      "Days: 2\n",
      "Days: 3\n",
      "Days: 4\n",
      "Days: 5\n",
      "Days: 6\n",
      "Week: 4\n",
      "Days: 1\n",
      "Days: 2\n",
      "Days: 3\n",
      "Days: 4\n",
      "Days: 5\n",
      "Days: 6\n",
      "Week: 5\n",
      "Days: 1\n",
      "Days: 2\n",
      "Days: 3\n",
      "Days: 4\n",
      "Days: 5\n",
      "Days: 6\n"
     ]
    }
   ],
   "source": [
    "for i in range(1,6):\n",
    "    print(\"Week:\",i)\n",
    "    for j in range(1,7):\n",
    "        print(\"Days:\", j)"
   ]
  },
  {
   "cell_type": "code",
   "execution_count": 361,
   "id": "bf5fcc7e-da9f-4512-9967-128aec4040f7",
   "metadata": {},
   "outputs": [
    {
     "name": "stdout",
     "output_type": "stream",
     "text": [
      "[1]\n",
      "[1, 2]\n",
      "[1, 2, 3]\n",
      "[1, 2, 3, 4]\n",
      "[1, 2, 3, 4, 5]\n"
     ]
    }
   ],
   "source": [
    "a=[]\n",
    "for i in range(1,6):\n",
    "    a.append(i)\n",
    "    print(a)"
   ]
  },
  {
   "cell_type": "code",
   "execution_count": 369,
   "id": "46f3719b-cd2c-41e1-8701-1e0621dc3761",
   "metadata": {},
   "outputs": [
    {
     "name": "stdout",
     "output_type": "stream",
     "text": [
      "\n",
      "1 \n",
      "1 2 \n",
      "1 2 3 \n",
      "1 2 3 4 \n",
      "1 2 3 4 5 "
     ]
    }
   ],
   "source": [
    "for i in range(1,6):\n",
    "    print()\n",
    "    for j in range(1,i+1):\n",
    "        print(j, end=\" \")"
   ]
  },
  {
   "cell_type": "code",
   "execution_count": null,
   "id": "bd5671e0-421f-42fa-879a-5f5b977c8d0f",
   "metadata": {},
   "outputs": [],
   "source": []
  }
 ],
 "metadata": {
  "kernelspec": {
   "display_name": "Python 3 (ipykernel)",
   "language": "python",
   "name": "python3"
  },
  "language_info": {
   "codemirror_mode": {
    "name": "ipython",
    "version": 3
   },
   "file_extension": ".py",
   "mimetype": "text/x-python",
   "name": "python",
   "nbconvert_exporter": "python",
   "pygments_lexer": "ipython3",
   "version": "3.12.4"
  }
 },
 "nbformat": 4,
 "nbformat_minor": 5
}
